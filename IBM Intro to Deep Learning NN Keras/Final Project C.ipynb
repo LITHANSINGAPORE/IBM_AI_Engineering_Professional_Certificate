{
 "cells": [
  {
   "cell_type": "markdown",
   "metadata": {
    "button": false,
    "deletable": true,
    "new_sheet": false,
    "run_control": {
     "read_only": false
    }
   },
   "source": [
    "## Final Project C"
   ]
  },
  {
   "cell_type": "markdown",
   "metadata": {
    "button": false,
    "deletable": true,
    "new_sheet": false,
    "run_control": {
     "read_only": false
    }
   },
   "source": [
    "<a id=\"item31\"></a>"
   ]
  },
  {
   "cell_type": "markdown",
   "metadata": {
    "button": false,
    "deletable": true,
    "new_sheet": false,
    "run_control": {
     "read_only": false
    }
   },
   "source": [
    "## Download and Clean Dataset"
   ]
  },
  {
   "cell_type": "markdown",
   "metadata": {
    "button": false,
    "deletable": true,
    "new_sheet": false,
    "run_control": {
     "read_only": false
    }
   },
   "source": [
    "Let's start by importing the <em>pandas</em> and the Numpy libraries."
   ]
  },
  {
   "cell_type": "code",
   "execution_count": 1,
   "metadata": {
    "button": false,
    "deletable": true,
    "new_sheet": false,
    "run_control": {
     "read_only": false
    }
   },
   "outputs": [],
   "source": [
    "import pandas as pd\n",
    "import numpy as np"
   ]
  },
  {
   "cell_type": "markdown",
   "metadata": {
    "button": false,
    "deletable": true,
    "new_sheet": false,
    "run_control": {
     "read_only": false
    }
   },
   "source": [
    "We will be playing around with the same dataset that we used in the videos.\n",
    "\n",
    "<strong>The dataset is about the compressive strength of different samples of concrete based on the volumes of the different ingredients that were used to make them. Ingredients include:</strong>\n",
    "\n",
    "<strong>1. Cement</strong>\n",
    "\n",
    "<strong>2. Blast Furnace Slag</strong>\n",
    "\n",
    "<strong>3. Fly Ash</strong>\n",
    "\n",
    "<strong>4. Water</strong>\n",
    "\n",
    "<strong>5. Superplasticizer</strong>\n",
    "\n",
    "<strong>6. Coarse Aggregate</strong>\n",
    "\n",
    "<strong>7. Fine Aggregate</strong>"
   ]
  },
  {
   "cell_type": "markdown",
   "metadata": {
    "button": false,
    "deletable": true,
    "new_sheet": false,
    "run_control": {
     "read_only": false
    }
   },
   "source": [
    "Let's download the data and read it into a <em>pandas</em> dataframe."
   ]
  },
  {
   "cell_type": "code",
   "execution_count": 2,
   "metadata": {
    "button": false,
    "deletable": true,
    "new_sheet": false,
    "run_control": {
     "read_only": false
    }
   },
   "outputs": [
    {
     "data": {
      "text/html": [
       "<div>\n",
       "<style scoped>\n",
       "    .dataframe tbody tr th:only-of-type {\n",
       "        vertical-align: middle;\n",
       "    }\n",
       "\n",
       "    .dataframe tbody tr th {\n",
       "        vertical-align: top;\n",
       "    }\n",
       "\n",
       "    .dataframe thead th {\n",
       "        text-align: right;\n",
       "    }\n",
       "</style>\n",
       "<table border=\"1\" class=\"dataframe\">\n",
       "  <thead>\n",
       "    <tr style=\"text-align: right;\">\n",
       "      <th></th>\n",
       "      <th>Cement</th>\n",
       "      <th>Blast Furnace Slag</th>\n",
       "      <th>Fly Ash</th>\n",
       "      <th>Water</th>\n",
       "      <th>Superplasticizer</th>\n",
       "      <th>Coarse Aggregate</th>\n",
       "      <th>Fine Aggregate</th>\n",
       "      <th>Age</th>\n",
       "      <th>Strength</th>\n",
       "    </tr>\n",
       "  </thead>\n",
       "  <tbody>\n",
       "    <tr>\n",
       "      <th>0</th>\n",
       "      <td>540.0</td>\n",
       "      <td>0.0</td>\n",
       "      <td>0.0</td>\n",
       "      <td>162.0</td>\n",
       "      <td>2.5</td>\n",
       "      <td>1040.0</td>\n",
       "      <td>676.0</td>\n",
       "      <td>28</td>\n",
       "      <td>79.99</td>\n",
       "    </tr>\n",
       "    <tr>\n",
       "      <th>1</th>\n",
       "      <td>540.0</td>\n",
       "      <td>0.0</td>\n",
       "      <td>0.0</td>\n",
       "      <td>162.0</td>\n",
       "      <td>2.5</td>\n",
       "      <td>1055.0</td>\n",
       "      <td>676.0</td>\n",
       "      <td>28</td>\n",
       "      <td>61.89</td>\n",
       "    </tr>\n",
       "    <tr>\n",
       "      <th>2</th>\n",
       "      <td>332.5</td>\n",
       "      <td>142.5</td>\n",
       "      <td>0.0</td>\n",
       "      <td>228.0</td>\n",
       "      <td>0.0</td>\n",
       "      <td>932.0</td>\n",
       "      <td>594.0</td>\n",
       "      <td>270</td>\n",
       "      <td>40.27</td>\n",
       "    </tr>\n",
       "    <tr>\n",
       "      <th>3</th>\n",
       "      <td>332.5</td>\n",
       "      <td>142.5</td>\n",
       "      <td>0.0</td>\n",
       "      <td>228.0</td>\n",
       "      <td>0.0</td>\n",
       "      <td>932.0</td>\n",
       "      <td>594.0</td>\n",
       "      <td>365</td>\n",
       "      <td>41.05</td>\n",
       "    </tr>\n",
       "    <tr>\n",
       "      <th>4</th>\n",
       "      <td>198.6</td>\n",
       "      <td>132.4</td>\n",
       "      <td>0.0</td>\n",
       "      <td>192.0</td>\n",
       "      <td>0.0</td>\n",
       "      <td>978.4</td>\n",
       "      <td>825.5</td>\n",
       "      <td>360</td>\n",
       "      <td>44.30</td>\n",
       "    </tr>\n",
       "  </tbody>\n",
       "</table>\n",
       "</div>"
      ],
      "text/plain": [
       "   Cement  Blast Furnace Slag  Fly Ash  Water  Superplasticizer  \\\n",
       "0   540.0                 0.0      0.0  162.0               2.5   \n",
       "1   540.0                 0.0      0.0  162.0               2.5   \n",
       "2   332.5               142.5      0.0  228.0               0.0   \n",
       "3   332.5               142.5      0.0  228.0               0.0   \n",
       "4   198.6               132.4      0.0  192.0               0.0   \n",
       "\n",
       "   Coarse Aggregate  Fine Aggregate  Age  Strength  \n",
       "0            1040.0           676.0   28     79.99  \n",
       "1            1055.0           676.0   28     61.89  \n",
       "2             932.0           594.0  270     40.27  \n",
       "3             932.0           594.0  365     41.05  \n",
       "4             978.4           825.5  360     44.30  "
      ]
     },
     "execution_count": 2,
     "metadata": {},
     "output_type": "execute_result"
    }
   ],
   "source": [
    "concrete_data = pd.read_csv('https://s3-api.us-geo.objectstorage.softlayer.net/cf-courses-data/CognitiveClass/DL0101EN/labs/data/concrete_data.csv')\n",
    "concrete_data.head()"
   ]
  },
  {
   "cell_type": "markdown",
   "metadata": {
    "button": false,
    "deletable": true,
    "new_sheet": false,
    "run_control": {
     "read_only": false
    }
   },
   "source": [
    "So the first concrete sample has 540 cubic meter of cement, 0 cubic meter of blast furnace slag, 0 cubic meter of fly ash, 162 cubic meter of water, 2.5 cubic meter of superplaticizer, 1040 cubic meter of coarse aggregate, 676 cubic meter of fine aggregate. Such a concrete mix which is 28 days old, has a compressive strength of 79.99 MPa. "
   ]
  },
  {
   "cell_type": "markdown",
   "metadata": {
    "button": false,
    "deletable": true,
    "new_sheet": false,
    "run_control": {
     "read_only": false
    }
   },
   "source": [
    "#### Let's check how many data points we have."
   ]
  },
  {
   "cell_type": "code",
   "execution_count": 3,
   "metadata": {
    "button": false,
    "deletable": true,
    "new_sheet": false,
    "run_control": {
     "read_only": false
    }
   },
   "outputs": [
    {
     "data": {
      "text/plain": [
       "(1030, 9)"
      ]
     },
     "execution_count": 3,
     "metadata": {},
     "output_type": "execute_result"
    }
   ],
   "source": [
    "concrete_data.shape"
   ]
  },
  {
   "cell_type": "markdown",
   "metadata": {
    "button": false,
    "deletable": true,
    "new_sheet": false,
    "run_control": {
     "read_only": false
    }
   },
   "source": [
    "So, there are approximately 1000 samples to train our model on. Because of the few samples, we have to be careful not to overfit the training data."
   ]
  },
  {
   "cell_type": "markdown",
   "metadata": {
    "button": false,
    "deletable": true,
    "new_sheet": false,
    "run_control": {
     "read_only": false
    }
   },
   "source": [
    "Let's check the dataset for any missing values."
   ]
  },
  {
   "cell_type": "code",
   "execution_count": 4,
   "metadata": {
    "button": false,
    "deletable": true,
    "new_sheet": false,
    "run_control": {
     "read_only": false
    }
   },
   "outputs": [
    {
     "data": {
      "text/html": [
       "<div>\n",
       "<style scoped>\n",
       "    .dataframe tbody tr th:only-of-type {\n",
       "        vertical-align: middle;\n",
       "    }\n",
       "\n",
       "    .dataframe tbody tr th {\n",
       "        vertical-align: top;\n",
       "    }\n",
       "\n",
       "    .dataframe thead th {\n",
       "        text-align: right;\n",
       "    }\n",
       "</style>\n",
       "<table border=\"1\" class=\"dataframe\">\n",
       "  <thead>\n",
       "    <tr style=\"text-align: right;\">\n",
       "      <th></th>\n",
       "      <th>Cement</th>\n",
       "      <th>Blast Furnace Slag</th>\n",
       "      <th>Fly Ash</th>\n",
       "      <th>Water</th>\n",
       "      <th>Superplasticizer</th>\n",
       "      <th>Coarse Aggregate</th>\n",
       "      <th>Fine Aggregate</th>\n",
       "      <th>Age</th>\n",
       "      <th>Strength</th>\n",
       "    </tr>\n",
       "  </thead>\n",
       "  <tbody>\n",
       "    <tr>\n",
       "      <th>count</th>\n",
       "      <td>1030.000000</td>\n",
       "      <td>1030.000000</td>\n",
       "      <td>1030.000000</td>\n",
       "      <td>1030.000000</td>\n",
       "      <td>1030.000000</td>\n",
       "      <td>1030.000000</td>\n",
       "      <td>1030.000000</td>\n",
       "      <td>1030.000000</td>\n",
       "      <td>1030.000000</td>\n",
       "    </tr>\n",
       "    <tr>\n",
       "      <th>mean</th>\n",
       "      <td>281.167864</td>\n",
       "      <td>73.895825</td>\n",
       "      <td>54.188350</td>\n",
       "      <td>181.567282</td>\n",
       "      <td>6.204660</td>\n",
       "      <td>972.918932</td>\n",
       "      <td>773.580485</td>\n",
       "      <td>45.662136</td>\n",
       "      <td>35.817961</td>\n",
       "    </tr>\n",
       "    <tr>\n",
       "      <th>std</th>\n",
       "      <td>104.506364</td>\n",
       "      <td>86.279342</td>\n",
       "      <td>63.997004</td>\n",
       "      <td>21.354219</td>\n",
       "      <td>5.973841</td>\n",
       "      <td>77.753954</td>\n",
       "      <td>80.175980</td>\n",
       "      <td>63.169912</td>\n",
       "      <td>16.705742</td>\n",
       "    </tr>\n",
       "    <tr>\n",
       "      <th>min</th>\n",
       "      <td>102.000000</td>\n",
       "      <td>0.000000</td>\n",
       "      <td>0.000000</td>\n",
       "      <td>121.800000</td>\n",
       "      <td>0.000000</td>\n",
       "      <td>801.000000</td>\n",
       "      <td>594.000000</td>\n",
       "      <td>1.000000</td>\n",
       "      <td>2.330000</td>\n",
       "    </tr>\n",
       "    <tr>\n",
       "      <th>25%</th>\n",
       "      <td>192.375000</td>\n",
       "      <td>0.000000</td>\n",
       "      <td>0.000000</td>\n",
       "      <td>164.900000</td>\n",
       "      <td>0.000000</td>\n",
       "      <td>932.000000</td>\n",
       "      <td>730.950000</td>\n",
       "      <td>7.000000</td>\n",
       "      <td>23.710000</td>\n",
       "    </tr>\n",
       "    <tr>\n",
       "      <th>50%</th>\n",
       "      <td>272.900000</td>\n",
       "      <td>22.000000</td>\n",
       "      <td>0.000000</td>\n",
       "      <td>185.000000</td>\n",
       "      <td>6.400000</td>\n",
       "      <td>968.000000</td>\n",
       "      <td>779.500000</td>\n",
       "      <td>28.000000</td>\n",
       "      <td>34.445000</td>\n",
       "    </tr>\n",
       "    <tr>\n",
       "      <th>75%</th>\n",
       "      <td>350.000000</td>\n",
       "      <td>142.950000</td>\n",
       "      <td>118.300000</td>\n",
       "      <td>192.000000</td>\n",
       "      <td>10.200000</td>\n",
       "      <td>1029.400000</td>\n",
       "      <td>824.000000</td>\n",
       "      <td>56.000000</td>\n",
       "      <td>46.135000</td>\n",
       "    </tr>\n",
       "    <tr>\n",
       "      <th>max</th>\n",
       "      <td>540.000000</td>\n",
       "      <td>359.400000</td>\n",
       "      <td>200.100000</td>\n",
       "      <td>247.000000</td>\n",
       "      <td>32.200000</td>\n",
       "      <td>1145.000000</td>\n",
       "      <td>992.600000</td>\n",
       "      <td>365.000000</td>\n",
       "      <td>82.600000</td>\n",
       "    </tr>\n",
       "  </tbody>\n",
       "</table>\n",
       "</div>"
      ],
      "text/plain": [
       "            Cement  Blast Furnace Slag      Fly Ash        Water  \\\n",
       "count  1030.000000         1030.000000  1030.000000  1030.000000   \n",
       "mean    281.167864           73.895825    54.188350   181.567282   \n",
       "std     104.506364           86.279342    63.997004    21.354219   \n",
       "min     102.000000            0.000000     0.000000   121.800000   \n",
       "25%     192.375000            0.000000     0.000000   164.900000   \n",
       "50%     272.900000           22.000000     0.000000   185.000000   \n",
       "75%     350.000000          142.950000   118.300000   192.000000   \n",
       "max     540.000000          359.400000   200.100000   247.000000   \n",
       "\n",
       "       Superplasticizer  Coarse Aggregate  Fine Aggregate          Age  \\\n",
       "count       1030.000000       1030.000000     1030.000000  1030.000000   \n",
       "mean           6.204660        972.918932      773.580485    45.662136   \n",
       "std            5.973841         77.753954       80.175980    63.169912   \n",
       "min            0.000000        801.000000      594.000000     1.000000   \n",
       "25%            0.000000        932.000000      730.950000     7.000000   \n",
       "50%            6.400000        968.000000      779.500000    28.000000   \n",
       "75%           10.200000       1029.400000      824.000000    56.000000   \n",
       "max           32.200000       1145.000000      992.600000   365.000000   \n",
       "\n",
       "          Strength  \n",
       "count  1030.000000  \n",
       "mean     35.817961  \n",
       "std      16.705742  \n",
       "min       2.330000  \n",
       "25%      23.710000  \n",
       "50%      34.445000  \n",
       "75%      46.135000  \n",
       "max      82.600000  "
      ]
     },
     "execution_count": 4,
     "metadata": {},
     "output_type": "execute_result"
    }
   ],
   "source": [
    "concrete_data.describe()"
   ]
  },
  {
   "cell_type": "code",
   "execution_count": 5,
   "metadata": {
    "button": false,
    "deletable": true,
    "new_sheet": false,
    "run_control": {
     "read_only": false
    }
   },
   "outputs": [
    {
     "data": {
      "text/plain": [
       "Cement                0\n",
       "Blast Furnace Slag    0\n",
       "Fly Ash               0\n",
       "Water                 0\n",
       "Superplasticizer      0\n",
       "Coarse Aggregate      0\n",
       "Fine Aggregate        0\n",
       "Age                   0\n",
       "Strength              0\n",
       "dtype: int64"
      ]
     },
     "execution_count": 5,
     "metadata": {},
     "output_type": "execute_result"
    }
   ],
   "source": [
    "concrete_data.isnull().sum()"
   ]
  },
  {
   "cell_type": "markdown",
   "metadata": {
    "button": false,
    "deletable": true,
    "new_sheet": false,
    "run_control": {
     "read_only": false
    }
   },
   "source": [
    "The data looks very clean and is ready to be used to build our model."
   ]
  },
  {
   "cell_type": "markdown",
   "metadata": {
    "button": false,
    "deletable": true,
    "new_sheet": false,
    "run_control": {
     "read_only": false
    }
   },
   "source": [
    "#### Split data into predictors and target"
   ]
  },
  {
   "cell_type": "markdown",
   "metadata": {},
   "source": [
    "The target variable in this problem is the concrete sample strength. Therefore, our predictors will be all the other columns."
   ]
  },
  {
   "cell_type": "code",
   "execution_count": 6,
   "metadata": {
    "button": false,
    "deletable": true,
    "new_sheet": false,
    "run_control": {
     "read_only": false
    }
   },
   "outputs": [],
   "source": [
    "concrete_data_columns = concrete_data.columns\n",
    "\n",
    "predictors = concrete_data[concrete_data_columns[concrete_data_columns != 'Strength']] # all columns except Strength\n",
    "target = concrete_data['Strength'] # Strength column"
   ]
  },
  {
   "cell_type": "markdown",
   "metadata": {
    "button": false,
    "deletable": true,
    "new_sheet": false,
    "run_control": {
     "read_only": false
    }
   },
   "source": [
    "<a id=\"item2\"></a>"
   ]
  },
  {
   "cell_type": "markdown",
   "metadata": {
    "button": false,
    "deletable": true,
    "new_sheet": false,
    "run_control": {
     "read_only": false
    }
   },
   "source": [
    "Let's do a quick sanity check of the predictors and the target dataframes."
   ]
  },
  {
   "cell_type": "code",
   "execution_count": 7,
   "metadata": {
    "button": false,
    "deletable": true,
    "new_sheet": false,
    "run_control": {
     "read_only": false
    }
   },
   "outputs": [
    {
     "data": {
      "text/html": [
       "<div>\n",
       "<style scoped>\n",
       "    .dataframe tbody tr th:only-of-type {\n",
       "        vertical-align: middle;\n",
       "    }\n",
       "\n",
       "    .dataframe tbody tr th {\n",
       "        vertical-align: top;\n",
       "    }\n",
       "\n",
       "    .dataframe thead th {\n",
       "        text-align: right;\n",
       "    }\n",
       "</style>\n",
       "<table border=\"1\" class=\"dataframe\">\n",
       "  <thead>\n",
       "    <tr style=\"text-align: right;\">\n",
       "      <th></th>\n",
       "      <th>Cement</th>\n",
       "      <th>Blast Furnace Slag</th>\n",
       "      <th>Fly Ash</th>\n",
       "      <th>Water</th>\n",
       "      <th>Superplasticizer</th>\n",
       "      <th>Coarse Aggregate</th>\n",
       "      <th>Fine Aggregate</th>\n",
       "      <th>Age</th>\n",
       "    </tr>\n",
       "  </thead>\n",
       "  <tbody>\n",
       "    <tr>\n",
       "      <th>0</th>\n",
       "      <td>540.0</td>\n",
       "      <td>0.0</td>\n",
       "      <td>0.0</td>\n",
       "      <td>162.0</td>\n",
       "      <td>2.5</td>\n",
       "      <td>1040.0</td>\n",
       "      <td>676.0</td>\n",
       "      <td>28</td>\n",
       "    </tr>\n",
       "    <tr>\n",
       "      <th>1</th>\n",
       "      <td>540.0</td>\n",
       "      <td>0.0</td>\n",
       "      <td>0.0</td>\n",
       "      <td>162.0</td>\n",
       "      <td>2.5</td>\n",
       "      <td>1055.0</td>\n",
       "      <td>676.0</td>\n",
       "      <td>28</td>\n",
       "    </tr>\n",
       "    <tr>\n",
       "      <th>2</th>\n",
       "      <td>332.5</td>\n",
       "      <td>142.5</td>\n",
       "      <td>0.0</td>\n",
       "      <td>228.0</td>\n",
       "      <td>0.0</td>\n",
       "      <td>932.0</td>\n",
       "      <td>594.0</td>\n",
       "      <td>270</td>\n",
       "    </tr>\n",
       "    <tr>\n",
       "      <th>3</th>\n",
       "      <td>332.5</td>\n",
       "      <td>142.5</td>\n",
       "      <td>0.0</td>\n",
       "      <td>228.0</td>\n",
       "      <td>0.0</td>\n",
       "      <td>932.0</td>\n",
       "      <td>594.0</td>\n",
       "      <td>365</td>\n",
       "    </tr>\n",
       "    <tr>\n",
       "      <th>4</th>\n",
       "      <td>198.6</td>\n",
       "      <td>132.4</td>\n",
       "      <td>0.0</td>\n",
       "      <td>192.0</td>\n",
       "      <td>0.0</td>\n",
       "      <td>978.4</td>\n",
       "      <td>825.5</td>\n",
       "      <td>360</td>\n",
       "    </tr>\n",
       "  </tbody>\n",
       "</table>\n",
       "</div>"
      ],
      "text/plain": [
       "   Cement  Blast Furnace Slag  Fly Ash  Water  Superplasticizer  \\\n",
       "0   540.0                 0.0      0.0  162.0               2.5   \n",
       "1   540.0                 0.0      0.0  162.0               2.5   \n",
       "2   332.5               142.5      0.0  228.0               0.0   \n",
       "3   332.5               142.5      0.0  228.0               0.0   \n",
       "4   198.6               132.4      0.0  192.0               0.0   \n",
       "\n",
       "   Coarse Aggregate  Fine Aggregate  Age  \n",
       "0            1040.0           676.0   28  \n",
       "1            1055.0           676.0   28  \n",
       "2             932.0           594.0  270  \n",
       "3             932.0           594.0  365  \n",
       "4             978.4           825.5  360  "
      ]
     },
     "execution_count": 7,
     "metadata": {},
     "output_type": "execute_result"
    }
   ],
   "source": [
    "predictors.head()"
   ]
  },
  {
   "cell_type": "code",
   "execution_count": 8,
   "metadata": {
    "button": false,
    "deletable": true,
    "new_sheet": false,
    "run_control": {
     "read_only": false
    }
   },
   "outputs": [
    {
     "data": {
      "text/plain": [
       "0    79.99\n",
       "1    61.89\n",
       "2    40.27\n",
       "3    41.05\n",
       "4    44.30\n",
       "Name: Strength, dtype: float64"
      ]
     },
     "execution_count": 8,
     "metadata": {},
     "output_type": "execute_result"
    }
   ],
   "source": [
    "target.head()"
   ]
  },
  {
   "cell_type": "markdown",
   "metadata": {
    "button": false,
    "deletable": true,
    "new_sheet": false,
    "run_control": {
     "read_only": false
    }
   },
   "source": [
    "Finally, the last step is to normalize the data by substracting the mean and dividing by the standard deviation."
   ]
  },
  {
   "cell_type": "code",
   "execution_count": 9,
   "metadata": {
    "button": false,
    "deletable": true,
    "new_sheet": false,
    "run_control": {
     "read_only": false
    }
   },
   "outputs": [
    {
     "data": {
      "text/html": [
       "<div>\n",
       "<style scoped>\n",
       "    .dataframe tbody tr th:only-of-type {\n",
       "        vertical-align: middle;\n",
       "    }\n",
       "\n",
       "    .dataframe tbody tr th {\n",
       "        vertical-align: top;\n",
       "    }\n",
       "\n",
       "    .dataframe thead th {\n",
       "        text-align: right;\n",
       "    }\n",
       "</style>\n",
       "<table border=\"1\" class=\"dataframe\">\n",
       "  <thead>\n",
       "    <tr style=\"text-align: right;\">\n",
       "      <th></th>\n",
       "      <th>Cement</th>\n",
       "      <th>Blast Furnace Slag</th>\n",
       "      <th>Fly Ash</th>\n",
       "      <th>Water</th>\n",
       "      <th>Superplasticizer</th>\n",
       "      <th>Coarse Aggregate</th>\n",
       "      <th>Fine Aggregate</th>\n",
       "      <th>Age</th>\n",
       "    </tr>\n",
       "  </thead>\n",
       "  <tbody>\n",
       "    <tr>\n",
       "      <th>0</th>\n",
       "      <td>2.476712</td>\n",
       "      <td>-0.856472</td>\n",
       "      <td>-0.846733</td>\n",
       "      <td>-0.916319</td>\n",
       "      <td>-0.620147</td>\n",
       "      <td>0.862735</td>\n",
       "      <td>-1.217079</td>\n",
       "      <td>-0.279597</td>\n",
       "    </tr>\n",
       "    <tr>\n",
       "      <th>1</th>\n",
       "      <td>2.476712</td>\n",
       "      <td>-0.856472</td>\n",
       "      <td>-0.846733</td>\n",
       "      <td>-0.916319</td>\n",
       "      <td>-0.620147</td>\n",
       "      <td>1.055651</td>\n",
       "      <td>-1.217079</td>\n",
       "      <td>-0.279597</td>\n",
       "    </tr>\n",
       "    <tr>\n",
       "      <th>2</th>\n",
       "      <td>0.491187</td>\n",
       "      <td>0.795140</td>\n",
       "      <td>-0.846733</td>\n",
       "      <td>2.174405</td>\n",
       "      <td>-1.038638</td>\n",
       "      <td>-0.526262</td>\n",
       "      <td>-2.239829</td>\n",
       "      <td>3.551340</td>\n",
       "    </tr>\n",
       "    <tr>\n",
       "      <th>3</th>\n",
       "      <td>0.491187</td>\n",
       "      <td>0.795140</td>\n",
       "      <td>-0.846733</td>\n",
       "      <td>2.174405</td>\n",
       "      <td>-1.038638</td>\n",
       "      <td>-0.526262</td>\n",
       "      <td>-2.239829</td>\n",
       "      <td>5.055221</td>\n",
       "    </tr>\n",
       "    <tr>\n",
       "      <th>4</th>\n",
       "      <td>-0.790075</td>\n",
       "      <td>0.678079</td>\n",
       "      <td>-0.846733</td>\n",
       "      <td>0.488555</td>\n",
       "      <td>-1.038638</td>\n",
       "      <td>0.070492</td>\n",
       "      <td>0.647569</td>\n",
       "      <td>4.976069</td>\n",
       "    </tr>\n",
       "  </tbody>\n",
       "</table>\n",
       "</div>"
      ],
      "text/plain": [
       "     Cement  Blast Furnace Slag   Fly Ash     Water  Superplasticizer  \\\n",
       "0  2.476712           -0.856472 -0.846733 -0.916319         -0.620147   \n",
       "1  2.476712           -0.856472 -0.846733 -0.916319         -0.620147   \n",
       "2  0.491187            0.795140 -0.846733  2.174405         -1.038638   \n",
       "3  0.491187            0.795140 -0.846733  2.174405         -1.038638   \n",
       "4 -0.790075            0.678079 -0.846733  0.488555         -1.038638   \n",
       "\n",
       "   Coarse Aggregate  Fine Aggregate       Age  \n",
       "0          0.862735       -1.217079 -0.279597  \n",
       "1          1.055651       -1.217079 -0.279597  \n",
       "2         -0.526262       -2.239829  3.551340  \n",
       "3         -0.526262       -2.239829  5.055221  \n",
       "4          0.070492        0.647569  4.976069  "
      ]
     },
     "execution_count": 9,
     "metadata": {},
     "output_type": "execute_result"
    }
   ],
   "source": [
    "predictors_norm = (predictors - predictors.mean()) / predictors.std()\n",
    "predictors_norm.head()"
   ]
  },
  {
   "cell_type": "markdown",
   "metadata": {},
   "source": [
    "Let's save the number of predictors to *n_cols* since we will need this number when building our network."
   ]
  },
  {
   "cell_type": "code",
   "execution_count": 10,
   "metadata": {
    "button": false,
    "deletable": true,
    "new_sheet": false,
    "run_control": {
     "read_only": false
    }
   },
   "outputs": [],
   "source": [
    "n_cols = predictors_norm.shape[1] # number of predictors"
   ]
  },
  {
   "cell_type": "markdown",
   "metadata": {
    "button": false,
    "deletable": true,
    "new_sheet": false,
    "run_control": {
     "read_only": false
    }
   },
   "source": [
    "<a id=\"item1\"></a>"
   ]
  },
  {
   "cell_type": "markdown",
   "metadata": {},
   "source": [
    "<a id='item32'></a>"
   ]
  },
  {
   "cell_type": "markdown",
   "metadata": {
    "button": false,
    "deletable": true,
    "new_sheet": false,
    "run_control": {
     "read_only": false
    }
   },
   "source": [
    "#### Let's go ahead and import the Keras library"
   ]
  },
  {
   "cell_type": "code",
   "execution_count": 11,
   "metadata": {
    "button": false,
    "deletable": true,
    "new_sheet": false,
    "run_control": {
     "read_only": false
    }
   },
   "outputs": [
    {
     "name": "stderr",
     "output_type": "stream",
     "text": [
      "Using TensorFlow backend.\n",
      "/home/jupyterlab/conda/envs/python/lib/python3.6/site-packages/tensorflow/python/framework/dtypes.py:519: FutureWarning: Passing (type, 1) or '1type' as a synonym of type is deprecated; in a future version of numpy, it will be understood as (type, (1,)) / '(1,)type'.\n",
      "  _np_qint8 = np.dtype([(\"qint8\", np.int8, 1)])\n",
      "/home/jupyterlab/conda/envs/python/lib/python3.6/site-packages/tensorflow/python/framework/dtypes.py:520: FutureWarning: Passing (type, 1) or '1type' as a synonym of type is deprecated; in a future version of numpy, it will be understood as (type, (1,)) / '(1,)type'.\n",
      "  _np_quint8 = np.dtype([(\"quint8\", np.uint8, 1)])\n",
      "/home/jupyterlab/conda/envs/python/lib/python3.6/site-packages/tensorflow/python/framework/dtypes.py:521: FutureWarning: Passing (type, 1) or '1type' as a synonym of type is deprecated; in a future version of numpy, it will be understood as (type, (1,)) / '(1,)type'.\n",
      "  _np_qint16 = np.dtype([(\"qint16\", np.int16, 1)])\n",
      "/home/jupyterlab/conda/envs/python/lib/python3.6/site-packages/tensorflow/python/framework/dtypes.py:522: FutureWarning: Passing (type, 1) or '1type' as a synonym of type is deprecated; in a future version of numpy, it will be understood as (type, (1,)) / '(1,)type'.\n",
      "  _np_quint16 = np.dtype([(\"quint16\", np.uint16, 1)])\n",
      "/home/jupyterlab/conda/envs/python/lib/python3.6/site-packages/tensorflow/python/framework/dtypes.py:523: FutureWarning: Passing (type, 1) or '1type' as a synonym of type is deprecated; in a future version of numpy, it will be understood as (type, (1,)) / '(1,)type'.\n",
      "  _np_qint32 = np.dtype([(\"qint32\", np.int32, 1)])\n",
      "/home/jupyterlab/conda/envs/python/lib/python3.6/site-packages/tensorflow/python/framework/dtypes.py:528: FutureWarning: Passing (type, 1) or '1type' as a synonym of type is deprecated; in a future version of numpy, it will be understood as (type, (1,)) / '(1,)type'.\n",
      "  np_resource = np.dtype([(\"resource\", np.ubyte, 1)])\n"
     ]
    }
   ],
   "source": [
    "import keras"
   ]
  },
  {
   "cell_type": "markdown",
   "metadata": {
    "button": false,
    "deletable": true,
    "new_sheet": false,
    "run_control": {
     "read_only": false
    }
   },
   "source": [
    "As you can see, the TensorFlow backend was used to install the Keras library."
   ]
  },
  {
   "cell_type": "markdown",
   "metadata": {
    "button": false,
    "deletable": true,
    "new_sheet": false,
    "run_control": {
     "read_only": false
    }
   },
   "source": [
    "Let's import the rest of the packages from the Keras library that we will need to build our regressoin model."
   ]
  },
  {
   "cell_type": "code",
   "execution_count": 12,
   "metadata": {
    "button": false,
    "deletable": true,
    "new_sheet": false,
    "run_control": {
     "read_only": false
    }
   },
   "outputs": [],
   "source": [
    "from keras.models import Sequential\n",
    "from keras.layers import Dense"
   ]
  },
  {
   "cell_type": "markdown",
   "metadata": {},
   "source": [
    "<a id='item33'></a>"
   ]
  },
  {
   "cell_type": "markdown",
   "metadata": {
    "button": false,
    "deletable": true,
    "new_sheet": false,
    "run_control": {
     "read_only": false
    }
   },
   "source": [
    "## Build a Neural Network"
   ]
  },
  {
   "cell_type": "markdown",
   "metadata": {
    "button": false,
    "deletable": true,
    "new_sheet": false,
    "run_control": {
     "read_only": false
    }
   },
   "source": [
    "Let's define a function that defines our regression model for us so that we can conveniently call it to create our model."
   ]
  },
  {
   "cell_type": "code",
   "execution_count": 13,
   "metadata": {
    "button": false,
    "deletable": true,
    "new_sheet": false,
    "run_control": {
     "read_only": false
    }
   },
   "outputs": [],
   "source": [
    "# define regression model\n",
    "def regression_model():\n",
    "    # create model\n",
    "    model = Sequential()\n",
    "    model.add(Dense(10, activation='relu', input_shape=(n_cols,)))\n",
    "    model.add(Dense(1))\n",
    "    \n",
    "    # compile model\n",
    "    model.compile(optimizer='adam', loss='mean_squared_error')\n",
    "    return model"
   ]
  },
  {
   "cell_type": "markdown",
   "metadata": {
    "button": false,
    "deletable": true,
    "new_sheet": false,
    "run_control": {
     "read_only": false
    }
   },
   "source": [
    "<a id=\"item4\"></a>"
   ]
  },
  {
   "cell_type": "markdown",
   "metadata": {},
   "source": [
    "<a id='item34'></a>"
   ]
  },
  {
   "cell_type": "markdown",
   "metadata": {
    "button": false,
    "deletable": true,
    "new_sheet": false,
    "run_control": {
     "read_only": false
    }
   },
   "source": [
    "## Train and Test the Network"
   ]
  },
  {
   "cell_type": "markdown",
   "metadata": {},
   "source": [
    "Let's call the function now to create our model."
   ]
  },
  {
   "cell_type": "code",
   "execution_count": 14,
   "metadata": {
    "button": false,
    "deletable": true,
    "new_sheet": false,
    "run_control": {
     "read_only": false
    }
   },
   "outputs": [],
   "source": [
    "# build the model\n",
    "model = regression_model()"
   ]
  },
  {
   "cell_type": "code",
   "execution_count": 15,
   "metadata": {},
   "outputs": [],
   "source": [
    "from sklearn.model_selection import train_test_split"
   ]
  },
  {
   "cell_type": "markdown",
   "metadata": {},
   "source": [
    "## Taking in a Normalized set of features"
   ]
  },
  {
   "cell_type": "code",
   "execution_count": 16,
   "metadata": {},
   "outputs": [],
   "source": [
    "X_train, X_test, Y_train, Y_test = train_test_split(predictors_norm, target, test_size=0.3, random_state=200)"
   ]
  },
  {
   "cell_type": "markdown",
   "metadata": {},
   "source": [
    "## Epochs is now 100"
   ]
  },
  {
   "cell_type": "code",
   "execution_count": 17,
   "metadata": {},
   "outputs": [
    {
     "name": "stdout",
     "output_type": "stream",
     "text": [
      "Epoch 1/100\n",
      "721/721 [==============================] - 3s 4ms/step - loss: 1617.1252\n",
      "Epoch 2/100\n",
      "721/721 [==============================] - 2s 2ms/step - loss: 1600.2993\n",
      "Epoch 3/100\n",
      "721/721 [==============================] - 1s 2ms/step - loss: 1584.1336\n",
      "Epoch 4/100\n",
      "721/721 [==============================] - 1s 2ms/step - loss: 1568.3326\n",
      "Epoch 5/100\n",
      "721/721 [==============================] - 1s 2ms/step - loss: 1552.8356\n",
      "Epoch 6/100\n",
      "721/721 [==============================] - 1s 2ms/step - loss: 1537.3265\n",
      "Epoch 7/100\n",
      "721/721 [==============================] - 1s 2ms/step - loss: 1521.7187\n",
      "Epoch 8/100\n",
      "721/721 [==============================] - 2s 2ms/step - loss: 1505.8145\n",
      "Epoch 9/100\n",
      "721/721 [==============================] - 1s 2ms/step - loss: 1489.8552\n",
      "Epoch 10/100\n",
      "721/721 [==============================] - 1s 1ms/step - loss: 1473.1692: 0s - los\n",
      "Epoch 11/100\n",
      "721/721 [==============================] - 2s 3ms/step - loss: 1456.0505\n",
      "Epoch 12/100\n",
      "721/721 [==============================] - 1s 2ms/step - loss: 1438.4350\n",
      "Epoch 13/100\n",
      "721/721 [==============================] - 1s 1ms/step - loss: 1420.2517\n",
      "Epoch 14/100\n",
      "721/721 [==============================] - 1s 1ms/step - loss: 1401.2560\n",
      "Epoch 15/100\n",
      "721/721 [==============================] - 1s 1ms/step - loss: 1381.9987\n",
      "Epoch 16/100\n",
      "721/721 [==============================] - 1s 2ms/step - loss: 1361.7466\n",
      "Epoch 17/100\n",
      "721/721 [==============================] - 1s 2ms/step - loss: 1341.1899\n",
      "Epoch 18/100\n",
      "721/721 [==============================] - 1s 1ms/step - loss: 1319.8811\n",
      "Epoch 19/100\n",
      "721/721 [==============================] - 1s 2ms/step - loss: 1297.7993\n",
      "Epoch 20/100\n",
      "721/721 [==============================] - 1s 2ms/step - loss: 1274.9563\n",
      "Epoch 21/100\n",
      "721/721 [==============================] - 1s 1ms/step - loss: 1251.3451\n",
      "Epoch 22/100\n",
      "721/721 [==============================] - 1s 2ms/step - loss: 1226.8859: 0s - loss:\n",
      "Epoch 23/100\n",
      "721/721 [==============================] - 1s 2ms/step - loss: 1202.0453\n",
      "Epoch 24/100\n",
      "721/721 [==============================] - 2s 2ms/step - loss: 1176.6458\n",
      "Epoch 25/100\n",
      "721/721 [==============================] - 1s 2ms/step - loss: 1150.1227\n",
      "Epoch 26/100\n",
      "721/721 [==============================] - 1s 2ms/step - loss: 1123.3199\n",
      "Epoch 27/100\n",
      "721/721 [==============================] - 1s 2ms/step - loss: 1095.1465\n",
      "Epoch 28/100\n",
      "721/721 [==============================] - 2s 2ms/step - loss: 1067.1705\n",
      "Epoch 29/100\n",
      "721/721 [==============================] - 1s 1ms/step - loss: 1038.2577\n",
      "Epoch 30/100\n",
      "721/721 [==============================] - 1s 2ms/step - loss: 1008.6440\n",
      "Epoch 31/100\n",
      "721/721 [==============================] - 1s 1ms/step - loss: 979.0940\n",
      "Epoch 32/100\n",
      "721/721 [==============================] - 2s 3ms/step - loss: 949.2027\n",
      "Epoch 33/100\n",
      "721/721 [==============================] - 2s 2ms/step - loss: 919.3829\n",
      "Epoch 34/100\n",
      "721/721 [==============================] - 1s 1ms/step - loss: 889.1511\n",
      "Epoch 35/100\n",
      "721/721 [==============================] - 1s 1ms/step - loss: 859.6448\n",
      "Epoch 36/100\n",
      "721/721 [==============================] - 1s 2ms/step - loss: 829.9223\n",
      "Epoch 37/100\n",
      "721/721 [==============================] - 1s 2ms/step - loss: 800.8082\n",
      "Epoch 38/100\n",
      "721/721 [==============================] - 1s 2ms/step - loss: 771.8644\n",
      "Epoch 39/100\n",
      "721/721 [==============================] - 1s 2ms/step - loss: 743.5491\n",
      "Epoch 40/100\n",
      "721/721 [==============================] - 1s 2ms/step - loss: 715.8724\n",
      "Epoch 41/100\n",
      "721/721 [==============================] - 1s 2ms/step - loss: 687.8252\n",
      "Epoch 42/100\n",
      "721/721 [==============================] - 1s 1ms/step - loss: 661.2065\n",
      "Epoch 43/100\n",
      "721/721 [==============================] - 1s 2ms/step - loss: 634.4230\n",
      "Epoch 44/100\n",
      "721/721 [==============================] - 1s 1ms/step - loss: 608.1261\n",
      "Epoch 45/100\n",
      "721/721 [==============================] - 2s 2ms/step - loss: 582.9980\n",
      "Epoch 46/100\n",
      "721/721 [==============================] - 2s 2ms/step - loss: 557.4861\n",
      "Epoch 47/100\n",
      "721/721 [==============================] - 1s 2ms/step - loss: 533.5694\n",
      "Epoch 48/100\n",
      "721/721 [==============================] - 2s 2ms/step - loss: 509.6412\n",
      "Epoch 49/100\n",
      "721/721 [==============================] - 1s 1ms/step - loss: 486.2319\n",
      "Epoch 50/100\n",
      "721/721 [==============================] - 1s 2ms/step - loss: 464.1359\n",
      "Epoch 51/100\n",
      "721/721 [==============================] - 1s 2ms/step - loss: 442.6133A: 0s - los\n",
      "Epoch 52/100\n",
      "721/721 [==============================] - 1s 1ms/step - loss: 422.3609\n",
      "Epoch 53/100\n",
      "721/721 [==============================] - 1s 2ms/step - loss: 402.6993\n",
      "Epoch 54/100\n",
      "721/721 [==============================] - 1s 2ms/step - loss: 384.1666\n",
      "Epoch 55/100\n",
      "721/721 [==============================] - 1s 1ms/step - loss: 366.8066\n",
      "Epoch 56/100\n",
      "721/721 [==============================] - 1s 2ms/step - loss: 350.4346\n",
      "Epoch 57/100\n",
      "721/721 [==============================] - 1s 2ms/step - loss: 334.8489\n",
      "Epoch 58/100\n",
      "721/721 [==============================] - 1s 2ms/step - loss: 320.3550\n",
      "Epoch 59/100\n",
      "721/721 [==============================] - 1s 1ms/step - loss: 306.9529\n",
      "Epoch 60/100\n",
      "721/721 [==============================] - ETA: 0s - loss: 296.007 - 1s 1ms/step - loss: 294.3174\n",
      "Epoch 61/100\n",
      "721/721 [==============================] - 1s 2ms/step - loss: 282.6119\n",
      "Epoch 62/100\n",
      "721/721 [==============================] - 1s 2ms/step - loss: 271.8015\n",
      "Epoch 63/100\n",
      "721/721 [==============================] - 1s 2ms/step - loss: 262.0110\n",
      "Epoch 64/100\n",
      "721/721 [==============================] - 1s 2ms/step - loss: 252.4794\n",
      "Epoch 65/100\n",
      "721/721 [==============================] - 1s 2ms/step - loss: 244.3291\n",
      "Epoch 66/100\n",
      "721/721 [==============================] - 1s 2ms/step - loss: 236.5121\n",
      "Epoch 67/100\n",
      "721/721 [==============================] - 1s 2ms/step - loss: 229.6976\n",
      "Epoch 68/100\n",
      "721/721 [==============================] - 1s 2ms/step - loss: 223.1775\n",
      "Epoch 69/100\n",
      "721/721 [==============================] - 1s 2ms/step - loss: 217.4328\n",
      "Epoch 70/100\n",
      "721/721 [==============================] - 1s 2ms/step - loss: 212.2164\n",
      "Epoch 71/100\n",
      "721/721 [==============================] - 1s 2ms/step - loss: 207.2156\n",
      "Epoch 72/100\n",
      "721/721 [==============================] - 2s 2ms/step - loss: 202.9670\n",
      "Epoch 73/100\n",
      "721/721 [==============================] - 1s 2ms/step - loss: 198.8977\n",
      "Epoch 74/100\n",
      "721/721 [==============================] - 1s 2ms/step - loss: 195.2942\n",
      "Epoch 75/100\n",
      "721/721 [==============================] - 1s 1ms/step - loss: 191.8685\n",
      "Epoch 76/100\n",
      "721/721 [==============================] - 1s 2ms/step - loss: 189.0168\n",
      "Epoch 77/100\n",
      "721/721 [==============================] - 1s 1ms/step - loss: 186.2535A: 0s - loss: 188.6\n",
      "Epoch 78/100\n",
      "721/721 [==============================] - 1s 1ms/step - loss: 183.8391\n",
      "Epoch 79/100\n",
      "721/721 [==============================] - 1s 2ms/step - loss: 181.5289\n",
      "Epoch 80/100\n",
      "721/721 [==============================] - 2s 2ms/step - loss: 179.4353\n",
      "Epoch 81/100\n",
      "721/721 [==============================] - 1s 2ms/step - loss: 177.5791A: 0s - loss:\n",
      "Epoch 82/100\n",
      "721/721 [==============================] - 2s 2ms/step - loss: 175.8006\n",
      "Epoch 83/100\n",
      "721/721 [==============================] - 1s 2ms/step - loss: 174.2029A: 2s - lo\n",
      "Epoch 84/100\n",
      "721/721 [==============================] - 1s 2ms/step - loss: 172.7331\n",
      "Epoch 85/100\n",
      "721/721 [==============================] - 2s 3ms/step - loss: 171.2832\n",
      "Epoch 86/100\n",
      "721/721 [==============================] - 1s 1ms/step - loss: 169.9957\n",
      "Epoch 87/100\n",
      "721/721 [==============================] - 1s 2ms/step - loss: 168.7855\n",
      "Epoch 88/100\n",
      "721/721 [==============================] - 1s 1ms/step - loss: 167.5924\n",
      "Epoch 89/100\n",
      "721/721 [==============================] - 1s 1ms/step - loss: 166.4672\n",
      "Epoch 90/100\n",
      "721/721 [==============================] - 1s 1ms/step - loss: 165.4393\n",
      "Epoch 91/100\n",
      "721/721 [==============================] - 1s 1ms/step - loss: 164.4420\n",
      "Epoch 92/100\n",
      "721/721 [==============================] - 1s 2ms/step - loss: 163.4471\n",
      "Epoch 93/100\n",
      "721/721 [==============================] - 1s 2ms/step - loss: 162.5149\n",
      "Epoch 94/100\n",
      "721/721 [==============================] - 2s 2ms/step - loss: 161.6015\n",
      "Epoch 95/100\n",
      "721/721 [==============================] - 1s 2ms/step - loss: 160.6527\n",
      "Epoch 96/100\n",
      "721/721 [==============================] - 1s 2ms/step - loss: 159.8408\n",
      "Epoch 97/100\n",
      "721/721 [==============================] - 1s 2ms/step - loss: 158.9808\n",
      "Epoch 98/100\n",
      "721/721 [==============================] - 1s 2ms/step - loss: 158.0611\n",
      "Epoch 99/100\n",
      "721/721 [==============================] - 1s 2ms/step - loss: 157.1669\n",
      "Epoch 100/100\n",
      "721/721 [==============================] - 1s 2ms/step - loss: 156.3458A: 0s - loss: 155.626\n"
     ]
    },
    {
     "data": {
      "text/plain": [
       "<keras.callbacks.History at 0x7fdfec83c390>"
      ]
     },
     "execution_count": 17,
     "metadata": {},
     "output_type": "execute_result"
    }
   ],
   "source": [
    "# fit the model\n",
    "epochs = 100\n",
    "model.fit(X_train, Y_train, epochs=100, verbose=1)"
   ]
  },
  {
   "cell_type": "code",
   "execution_count": 18,
   "metadata": {},
   "outputs": [
    {
     "name": "stdout",
     "output_type": "stream",
     "text": [
      "309/309 [==============================] - 0s 977us/step\n"
     ]
    },
    {
     "data": {
      "text/plain": [
       "154.82148498238868"
      ]
     },
     "execution_count": 18,
     "metadata": {},
     "output_type": "execute_result"
    }
   ],
   "source": [
    "loss_val = model.evaluate(X_test, Y_test)\n",
    "Y_pred = model.predict(X_test)\n",
    "loss_val"
   ]
  },
  {
   "cell_type": "code",
   "execution_count": 19,
   "metadata": {},
   "outputs": [],
   "source": [
    "#Now we need to compute the mean squared error between the predicted concrete strength and the actual concrete strength.\n",
    "from sklearn.metrics import mean_squared_error"
   ]
  },
  {
   "cell_type": "code",
   "execution_count": 20,
   "metadata": {},
   "outputs": [
    {
     "name": "stdout",
     "output_type": "stream",
     "text": [
      "154.82148230019914 0.0\n"
     ]
    }
   ],
   "source": [
    "mse = mean_squared_error(Y_test, Y_pred)\n",
    "mean = np.mean(mse)\n",
    "standard_deviation = np.std(mse)\n",
    "print(mean, standard_deviation)"
   ]
  },
  {
   "cell_type": "code",
   "execution_count": 22,
   "metadata": {},
   "outputs": [
    {
     "name": "stdout",
     "output_type": "stream",
     "text": [
      "MSE 1: 95.41297774330312\n",
      "MSE 2: 122.162885746138\n",
      "MSE 3: 112.34085117574648\n",
      "MSE 4: 128.30191896802785\n",
      "MSE 5: 122.36250794049606\n",
      "MSE 6: 110.35277056153924\n",
      "MSE 7: 133.707823373739\n",
      "MSE 8: 101.10617843183499\n",
      "MSE 9: 121.08664656457006\n",
      "MSE 10: 119.25450168844179\n",
      "MSE 11: 105.22268810087037\n",
      "MSE 12: 101.02533400946065\n",
      "MSE 13: 116.71926334220615\n",
      "MSE 14: 117.80135989883571\n",
      "MSE 15: 124.33543716973857\n",
      "MSE 16: 107.24339654916312\n",
      "MSE 17: 120.68060396558644\n",
      "MSE 18: 143.73854079755765\n",
      "MSE 19: 115.6062530221291\n",
      "MSE 20: 122.38337591473724\n",
      "MSE 21: 121.07017828191368\n",
      "MSE 22: 104.50988090539828\n",
      "MSE 23: 115.31591698112611\n",
      "MSE 24: 113.0589739851967\n",
      "MSE 25: 108.97456122833549\n",
      "MSE 26: 99.63786365299163\n",
      "MSE 27: 127.52687149294758\n",
      "MSE 28: 122.63663840679675\n",
      "MSE 29: 109.55945737770845\n",
      "MSE 30: 116.16656321306445\n",
      "MSE 31: 138.80344005695824\n",
      "MSE 32: 126.77614963864818\n",
      "MSE 33: 104.2266389420889\n",
      "MSE 34: 115.61670213224046\n",
      "MSE 35: 114.69729159950825\n",
      "MSE 36: 124.65971214022836\n",
      "MSE 37: 127.7604471348636\n",
      "MSE 38: 141.58980256608388\n",
      "MSE 39: 115.48277875289176\n",
      "MSE 40: 112.74760125910194\n",
      "MSE 41: 119.17021369316817\n",
      "MSE 42: 133.4654821500809\n",
      "MSE 43: 112.85703060310635\n",
      "MSE 44: 188.88682521585508\n",
      "MSE 45: 124.24025279418551\n",
      "MSE 46: 115.14768616512755\n",
      "MSE 47: 131.19816989343144\n",
      "MSE 48: 117.86636856227246\n",
      "MSE 49: 105.07857449232182\n",
      "MSE 50: 113.2882958816479\n",
      "MSE 51: 98.35487474361284\n",
      "MSE 52: 107.65840855076861\n",
      "MSE 53: 114.09730692743098\n",
      "MSE 54: 100.56066711820831\n",
      "MSE 55: 118.03823978461108\n",
      "MSE 56: 116.79338890989236\n",
      "MSE 57: 121.11778493838017\n",
      "MSE 58: 122.46275714763159\n",
      "MSE 59: 119.51042562935345\n",
      "MSE 60: 121.80290799927943\n",
      "MSE 61: 104.21601778789632\n",
      "MSE 62: 121.12231262602081\n",
      "MSE 63: 112.06034739966532\n",
      "MSE 64: 111.89236613153254\n",
      "MSE 65: 130.4618383117478\n",
      "MSE 66: 119.17683193367276\n",
      "MSE 67: 109.19613509193593\n",
      "MSE 68: 115.74467979357081\n",
      "MSE 69: 105.99334667415681\n",
      "MSE 70: 108.87539825933266\n",
      "MSE 71: 111.27975068817632\n",
      "MSE 72: 125.98048040396188\n",
      "MSE 73: 102.30337297260569\n",
      "MSE 74: 101.65683413014828\n",
      "MSE 75: 120.24137122885695\n",
      "MSE 76: 109.28452357813764\n",
      "MSE 77: 110.54084501297342\n",
      "MSE 78: 109.25898972298334\n",
      "MSE 79: 112.63368338674404\n",
      "MSE 80: 127.91299147127516\n",
      "MSE 81: 105.1274080492532\n",
      "MSE 82: 118.48794987749514\n",
      "MSE 83: 124.08889291510226\n",
      "MSE 84: 107.77308581947895\n",
      "MSE 85: 125.14406970866675\n",
      "MSE 86: 108.72253425375929\n",
      "MSE 87: 114.17742756963933\n",
      "MSE 88: 118.92213889310275\n",
      "MSE 89: 99.09313932745974\n",
      "MSE 90: 109.97968037923177\n",
      "MSE 91: 118.03204577794739\n",
      "MSE 92: 113.55634952285915\n",
      "MSE 93: 117.45000620721613\n",
      "MSE 94: 101.07907385964995\n",
      "MSE 95: 120.62534566836064\n",
      "MSE 96: 122.41486380864116\n",
      "MSE 97: 118.85297381453529\n",
      "MSE 98: 114.74042962824257\n",
      "MSE 99: 118.02164935757041\n",
      "MSE 100: 126.77096505766933\n",
      "\n",
      "\n",
      "Below is the mean and standard deviation of 100 mean squared errors with normalized data. Total number of epochs for each training is: 100\n",
      "\n",
      "Mean: 116.76150502650977\n",
      "Standard Deviation: 11.949103244425952\n"
     ]
    }
   ],
   "source": [
    "total_mses = 100\n",
    "epochs = 100\n",
    "mean_squared_errors = []\n",
    "for i in range(0, total_mses):\n",
    "    X_train, X_test, Y_train, Y_test = train_test_split(predictors, target, test_size=0.3, random_state=i)\n",
    "    model.fit(X_train, Y_train, epochs=epochs, verbose=0)\n",
    "    MSE = model.evaluate(X_test, Y_test, verbose=0)\n",
    "    print(\"MSE \"+str(i+1)+\": \"+str(MSE))\n",
    "    Y_pred = model.predict(X_test)\n",
    "    mean_square_error = mean_squared_error(Y_test, Y_pred)\n",
    "    mean_squared_errors.append(mean_square_error)\n",
    "\n",
    "mean_squared_errors = np.array(mean_squared_errors)\n",
    "mean = np.mean(mean_squared_errors)\n",
    "standard_deviation = np.std(mean_squared_errors)\n",
    "\n",
    "print('\\n')\n",
    "print(\"Below is the mean and standard deviation of \" +str(total_mses) + \" mean squared errors with normalized data. Total number of epochs for each training is: \" +str(epochs) + \"\\n\")\n",
    "print(\"Mean: \"+str(mean))\n",
    "print(\"Standard Deviation: \"+str(standard_deviation))"
   ]
  },
  {
   "cell_type": "markdown",
   "metadata": {},
   "source": [
    "## How does the mean of the mean squared errors compare to that from Step B?"
   ]
  },
  {
   "cell_type": "markdown",
   "metadata": {},
   "source": [
    "## Mean MSE is slightly larger, by a difference of 3, than step B. The Std Dev is slightly higher."
   ]
  },
  {
   "cell_type": "code",
   "execution_count": null,
   "metadata": {},
   "outputs": [],
   "source": []
  }
 ],
 "metadata": {
  "kernelspec": {
   "display_name": "Python",
   "language": "python",
   "name": "conda-env-python-py"
  },
  "language_info": {
   "codemirror_mode": {
    "name": "ipython",
    "version": 3
   },
   "file_extension": ".py",
   "mimetype": "text/x-python",
   "name": "python",
   "nbconvert_exporter": "python",
   "pygments_lexer": "ipython3",
   "version": "3.6.11"
  }
 },
 "nbformat": 4,
 "nbformat_minor": 4
}
